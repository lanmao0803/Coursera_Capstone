{
    "cells": [
        {
            "cell_type": "markdown",
            "metadata": {
                "collapsed": true
            },
            "source": "# Location for opening up a new organic grocery in Toronto\nWang, Junyu  \n2020.05.13"
        },
        {
            "cell_type": "markdown",
            "metadata": {},
            "source": "## 1. Introduction"
        },
        {
            "cell_type": "markdown",
            "metadata": {},
            "source": "### 1.1 Background\n\nAs the technology has made our life much better than before. People no long need to struggle for food. And in big cities there is a trend to persue organic lifestyle. This is a sustainable lifestyle aiming at protecting of our planet. People living the lifestyle eat organic food, wear organic clothes and try to use public tranportations instead of driving own car. \n\n### 1.2 Problem\n\nThe income may influence the lifestyle that people choose. We will combine the income data and distribution of organic groceries in Toronto to discuss the problem\n\n### 1.3 Interest\n\nAs it is impossible for people living in the city to produce food and clothes themself, as more people persuing this lifestyle, it will lead to a growing demand of organic groceries. For entrepreneur it could be a good chance to open a such store. But as the price for organic products are higher than similar products, and not all the people are willing to pay that gap to get organic products, searching the right business target group is very important. So choosing the right place to open up a new organic grocery store could be decisive for business success. In this report we will show how many organic groceries exists in toronto and how they are distributed in the cities. This information could help people to decide, which boough could be a good place to open up a new organic grocery story. "
        },
        {
            "cell_type": "markdown",
            "metadata": {},
            "source": "## 2. Data source and cleaning"
        },
        {
            "cell_type": "markdown",
            "metadata": {},
            "source": "### 2.1 Data source\n\nThe location data of the neighborhoods in Toronto can be found in the previous assignment. Data from [wikipedia](https://en.wikipedia.org/wiki/List_of_postal_codes_of_Canada:_M) and [IBM](http://cocl.us/Geospatial_data) are used to get location information of the neighborhood of the city Toronto. The economic data of Toronto is acquired for [wikipedia](https://en.wikipedia.org/wiki/Demographics_of_Toronto_neighbourhoods). \n\n### 2.2 Data cleaning\n\nThe location data from wikipedia and IBM are scraped and combined in one dataframe. Then Requests to Foursquare are made to find the organic groceries in a radius of 10 km from the center of each postal code. As the organic groceries may be found more than once, they are assigned to the neighborhood, whose center has the smallest distance to it. Then, the organic groceries will be visuallized on the map of Toronto using folium.\n\nThe population and income data will be read from wikipedia and processed further to calculate the population and average income of each borough. Then the numbers of organic groceries and population and income data will be combined to show the current organic product market.\n\n"
        },
        {
            "cell_type": "markdown",
            "metadata": {},
            "source": "## 3. Data Analysis"
        },
        {
            "cell_type": "markdown",
            "metadata": {},
            "source": "After using foursquare to get all the groceries locations and cleaning up the data, 27 organic groceries were found. The locations are then plotted on the map."
        },
        {
            "cell_type": "markdown",
            "metadata": {},
            "source": "![Organic groceries](https://raw.githubusercontent.com/lanmao0803/Coursera_Capstone/master/map.PNG)"
        },
        {
            "cell_type": "markdown",
            "metadata": {},
            "source": "It can be clearly seen that most of the organic groceries are located in the downtown area."
        },
        {
            "cell_type": "markdown",
            "metadata": {},
            "source": "Population and income data are scraped from wikipedia. The data represent each neighborhood. In order to get the data for each borough, the data are grouped to calculate the population and average income. And then the organic groceries in each borough are counted and added to the table."
        },
        {
            "cell_type": "markdown",
            "metadata": {},
            "source": "![Borough Population, Average income and organic groceries](https://raw.githubusercontent.com/lanmao0803/Coursera_Capstone/master/table.PNG)"
        },
        {
            "cell_type": "markdown",
            "metadata": {},
            "source": "## 4. Result and discussion "
        },
        {
            "cell_type": "markdown",
            "metadata": {},
            "source": "We can see that although we heard much about organic lifestyle a lot in the last few years, there are only 25 organic groceries in Toronto. The small amount of organic groceres make it almost impossible to dig out much information based only on foursquare map data. Nevertheless, we could still win a overview into the market of organic products based on the data we collected.\n\nOver half of the organic groceries are located in Old City of Toronto, where the popuplation is the highest and average income also the highest. This is to be expected as normally most such stores will locate in inner city where many public transportations are in the surrondings. \n\nOpening an organic grocery outside the Old City of Toronto requires a entrepreneur to know better about the corresponding borough. Etobicoke would be of an interest, because it has the second highest income and relativly large population, but only a single organic grocery is located there."
        },
        {
            "cell_type": "markdown",
            "metadata": {},
            "source": "## 5. Conclusion"
        },
        {
            "cell_type": "markdown",
            "metadata": {},
            "source": "In this report we try to gain an overview into the current situation of organic groceries in Toronto. We plot the groceries on the folium map and calculate the population, income and numbers of organic groceries in each borough in Toronto.\n\nThere will still be a long way before the real blooming of organic products, as it is shown that there are only less than 30 such stores in Toronto. Old City of Toronto would still be the first choice for opening up a organic grocery because of the population and average income, although there are already some stores opening there. People living in Etobicoke may have interest in having a new store as the average income here is relatively high.\n\nIn order to make final business decision, more information such as revenue should be gathered to get an insight of the business."
        },
        {
            "cell_type": "code",
            "execution_count": null,
            "metadata": {},
            "outputs": [],
            "source": ""
        }
    ],
    "metadata": {
        "kernelspec": {
            "display_name": "Python 3.6",
            "language": "python",
            "name": "python3"
        },
        "language_info": {
            "codemirror_mode": {
                "name": "ipython",
                "version": 3
            },
            "file_extension": ".py",
            "mimetype": "text/x-python",
            "name": "python",
            "nbconvert_exporter": "python",
            "pygments_lexer": "ipython3",
            "version": "3.6.9"
        }
    },
    "nbformat": 4,
    "nbformat_minor": 1
}