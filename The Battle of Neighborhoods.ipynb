{
    "cells": [
        {
            "cell_type": "markdown",
            "metadata": {
                "collapsed": true
            },
            "source": "# Location for opening up a new organic grocery in Toronto\nWang, Junyu  \n2020.05.13"
        },
        {
            "cell_type": "markdown",
            "metadata": {},
            "source": "## 1. Introduction"
        },
        {
            "cell_type": "markdown",
            "metadata": {},
            "source": "### 1.1 Background\n\nAs the technology has made our life much better than before. People no long need to struggle for food. And in big cities there is a trend to persue organic lifestyle. This is a sustainable lifestyle aiming at protecting of our planet. People living the lifestyle eat organic food, wear organic clothes and try to use public tranportations instead of driving own car. \n\n### 1.2 Problem\n\nThe income will influence the lifestyle that people choose. We will combine the income data and distribution of organic groceries in Toronto to discuss the problem\n\n### 1.3 Interest\n\nAs it is impossible for people living in the city to produce food and clothes themself, as more people persuing this lifestyle, it will lead to a growing demand of organic groceries. For entrepreneur it could be a good chance to open a such store. But as the price for organic products are higher than similar products, and not all the people are willing to pay that gap to get organic products, searching the right business target group is very important. So choosing the right place to open up a new organic grocery store could be decisive for business success. In this report we will show how many organic groceries exists in toronto and how they are distributed in the cities. This information could help people to decide, which neighborhhod could be a good place to open up a new organic grocery story. "
        },
        {
            "cell_type": "markdown",
            "metadata": {},
            "source": "## 2. Data source and cleaning"
        },
        {
            "cell_type": "markdown",
            "metadata": {},
            "source": "### 2.1 Data source\n\nThe location data of the neighborhoods in Toronto can be found in the previous assignment. Data from [wikipedia](https://en.wikipedia.org/wiki/List_of_postal_codes_of_Canada:_M) and [IBM](http://cocl.us/Geospatial_data) are used to get location information of the neighborhood of the city Toronto. The economic data of Toronto is acquired for [wikipedia](https://en.wikipedia.org/wiki/Demographics_of_Toronto_neighbourhoods). [Geojson](https://jasonicarter.github.io/Toronto-Neighbourhood-geojson/) data will be used to show the distribution of the income. \n\n### 2.2 Data cleaning\n\nThe location data from wikipedia and IBM are scraped and combined in one dataframe. Then Requests to Foursquare are made to find the organic groceries in a radius of 10 km from the center of each postal code. As the organic groceries may be found more than once, they are assigned to the neighborhood, whose center has the smallest distance to it.\n\nThen, the organic groceries will be visuallized on the map of Toronto using folium. The income will be visuallized using choropleth maps. Then the two maps will be compared with each other to draw the final conclusion.\n\n"
        },
        {
            "cell_type": "markdown",
            "metadata": {},
            "source": "# Assignment for week 4 ends here. "
        },
        {
            "cell_type": "markdown",
            "metadata": {},
            "source": "_Use the data from toronto and process it as previous assignment_"
        },
        {
            "cell_type": "code",
            "execution_count": 1,
            "metadata": {},
            "outputs": [],
            "source": "import requests\nimport pandas as pd\nimport numpy as np\nimport matplotlib.pyplot as plt\n"
        },
        {
            "cell_type": "code",
            "execution_count": 2,
            "metadata": {},
            "outputs": [],
            "source": "url_file = requests.get('https://en.wikipedia.org/wiki/List_of_postal_codes_of_Canada:_M')"
        },
        {
            "cell_type": "code",
            "execution_count": 3,
            "metadata": {},
            "outputs": [],
            "source": "toronto_df = pd.read_html(url_file.text, header=0)[0].dropna(axis = 0).reset_index(drop=True)"
        },
        {
            "cell_type": "code",
            "execution_count": 4,
            "metadata": {},
            "outputs": [
                {
                    "data": {
                        "text/html": "<div>\n<style scoped>\n    .dataframe tbody tr th:only-of-type {\n        vertical-align: middle;\n    }\n\n    .dataframe tbody tr th {\n        vertical-align: top;\n    }\n\n    .dataframe thead th {\n        text-align: right;\n    }\n</style>\n<table border=\"1\" class=\"dataframe\">\n  <thead>\n    <tr style=\"text-align: right;\">\n      <th></th>\n      <th>Postal Code</th>\n      <th>Borough</th>\n      <th>Neighborhood</th>\n      <th>Latitude</th>\n      <th>Longitude</th>\n    </tr>\n  </thead>\n  <tbody>\n    <tr>\n      <th>0</th>\n      <td>M3A</td>\n      <td>North York</td>\n      <td>Parkwoods</td>\n      <td>43.753259</td>\n      <td>-79.329656</td>\n    </tr>\n    <tr>\n      <th>1</th>\n      <td>M4A</td>\n      <td>North York</td>\n      <td>Victoria Village</td>\n      <td>43.725882</td>\n      <td>-79.315572</td>\n    </tr>\n    <tr>\n      <th>2</th>\n      <td>M5A</td>\n      <td>Downtown Toronto</td>\n      <td>Regent Park, Harbourfront</td>\n      <td>43.654260</td>\n      <td>-79.360636</td>\n    </tr>\n    <tr>\n      <th>3</th>\n      <td>M6A</td>\n      <td>North York</td>\n      <td>Lawrence Manor, Lawrence Heights</td>\n      <td>43.718518</td>\n      <td>-79.464763</td>\n    </tr>\n    <tr>\n      <th>4</th>\n      <td>M7A</td>\n      <td>Downtown Toronto</td>\n      <td>Queen's Park, Ontario Provincial Government</td>\n      <td>43.662301</td>\n      <td>-79.389494</td>\n    </tr>\n    <tr>\n      <th>5</th>\n      <td>M9A</td>\n      <td>Etobicoke</td>\n      <td>Islington Avenue</td>\n      <td>43.667856</td>\n      <td>-79.532242</td>\n    </tr>\n    <tr>\n      <th>6</th>\n      <td>M1B</td>\n      <td>Scarborough</td>\n      <td>Malvern, Rouge</td>\n      <td>43.806686</td>\n      <td>-79.194353</td>\n    </tr>\n    <tr>\n      <th>7</th>\n      <td>M3B</td>\n      <td>North York</td>\n      <td>Don Mills</td>\n      <td>43.745906</td>\n      <td>-79.352188</td>\n    </tr>\n    <tr>\n      <th>8</th>\n      <td>M4B</td>\n      <td>East York</td>\n      <td>Parkview Hill, Woodbine Gardens</td>\n      <td>43.706397</td>\n      <td>-79.309937</td>\n    </tr>\n    <tr>\n      <th>9</th>\n      <td>M5B</td>\n      <td>Downtown Toronto</td>\n      <td>Garden District, Ryerson</td>\n      <td>43.657162</td>\n      <td>-79.378937</td>\n    </tr>\n    <tr>\n      <th>10</th>\n      <td>M6B</td>\n      <td>North York</td>\n      <td>Glencairn</td>\n      <td>43.709577</td>\n      <td>-79.445073</td>\n    </tr>\n    <tr>\n      <th>11</th>\n      <td>M9B</td>\n      <td>Etobicoke</td>\n      <td>West Deane Park, Princess Gardens, Martin Grov...</td>\n      <td>43.650943</td>\n      <td>-79.554724</td>\n    </tr>\n    <tr>\n      <th>12</th>\n      <td>M1C</td>\n      <td>Scarborough</td>\n      <td>Rouge Hill, Port Union, Highland Creek</td>\n      <td>43.784535</td>\n      <td>-79.160497</td>\n    </tr>\n    <tr>\n      <th>13</th>\n      <td>M3C</td>\n      <td>North York</td>\n      <td>Don Mills</td>\n      <td>43.725900</td>\n      <td>-79.340923</td>\n    </tr>\n    <tr>\n      <th>14</th>\n      <td>M4C</td>\n      <td>East York</td>\n      <td>Woodbine Heights</td>\n      <td>43.695344</td>\n      <td>-79.318389</td>\n    </tr>\n    <tr>\n      <th>15</th>\n      <td>M5C</td>\n      <td>Downtown Toronto</td>\n      <td>St. James Town</td>\n      <td>43.651494</td>\n      <td>-79.375418</td>\n    </tr>\n    <tr>\n      <th>16</th>\n      <td>M6C</td>\n      <td>York</td>\n      <td>Humewood-Cedarvale</td>\n      <td>43.693781</td>\n      <td>-79.428191</td>\n    </tr>\n    <tr>\n      <th>17</th>\n      <td>M9C</td>\n      <td>Etobicoke</td>\n      <td>Eringate, Bloordale Gardens, Old Burnhamthorpe...</td>\n      <td>43.643515</td>\n      <td>-79.577201</td>\n    </tr>\n    <tr>\n      <th>18</th>\n      <td>M1E</td>\n      <td>Scarborough</td>\n      <td>Guildwood, Morningside, West Hill</td>\n      <td>43.763573</td>\n      <td>-79.188711</td>\n    </tr>\n    <tr>\n      <th>19</th>\n      <td>M4E</td>\n      <td>East Toronto</td>\n      <td>The Beaches</td>\n      <td>43.676357</td>\n      <td>-79.293031</td>\n    </tr>\n  </tbody>\n</table>\n</div>",
                        "text/plain": "   Postal Code           Borough  \\\n0          M3A        North York   \n1          M4A        North York   \n2          M5A  Downtown Toronto   \n3          M6A        North York   \n4          M7A  Downtown Toronto   \n5          M9A         Etobicoke   \n6          M1B       Scarborough   \n7          M3B        North York   \n8          M4B         East York   \n9          M5B  Downtown Toronto   \n10         M6B        North York   \n11         M9B         Etobicoke   \n12         M1C       Scarborough   \n13         M3C        North York   \n14         M4C         East York   \n15         M5C  Downtown Toronto   \n16         M6C              York   \n17         M9C         Etobicoke   \n18         M1E       Scarborough   \n19         M4E      East Toronto   \n\n                                         Neighborhood   Latitude  Longitude  \n0                                           Parkwoods  43.753259 -79.329656  \n1                                    Victoria Village  43.725882 -79.315572  \n2                           Regent Park, Harbourfront  43.654260 -79.360636  \n3                    Lawrence Manor, Lawrence Heights  43.718518 -79.464763  \n4         Queen's Park, Ontario Provincial Government  43.662301 -79.389494  \n5                                    Islington Avenue  43.667856 -79.532242  \n6                                      Malvern, Rouge  43.806686 -79.194353  \n7                                           Don Mills  43.745906 -79.352188  \n8                     Parkview Hill, Woodbine Gardens  43.706397 -79.309937  \n9                            Garden District, Ryerson  43.657162 -79.378937  \n10                                          Glencairn  43.709577 -79.445073  \n11  West Deane Park, Princess Gardens, Martin Grov...  43.650943 -79.554724  \n12             Rouge Hill, Port Union, Highland Creek  43.784535 -79.160497  \n13                                          Don Mills  43.725900 -79.340923  \n14                                   Woodbine Heights  43.695344 -79.318389  \n15                                     St. James Town  43.651494 -79.375418  \n16                                 Humewood-Cedarvale  43.693781 -79.428191  \n17  Eringate, Bloordale Gardens, Old Burnhamthorpe...  43.643515 -79.577201  \n18                  Guildwood, Morningside, West Hill  43.763573 -79.188711  \n19                                        The Beaches  43.676357 -79.293031  "
                    },
                    "execution_count": 4,
                    "metadata": {},
                    "output_type": "execute_result"
                }
            ],
            "source": "df_1 = pd.read_csv('http://cocl.us/Geospatial_data')\ntoronto_df = toronto_df.set_index('Postal Code').join(df_1.set_index('Postal Code')).reset_index()\ntoronto_df.head(20)"
        },
        {
            "cell_type": "markdown",
            "metadata": {},
            "source": "_Using foursquare to get the infomation of veneus that is a grocery shop._"
        },
        {
            "cell_type": "code",
            "execution_count": 5,
            "metadata": {},
            "outputs": [],
            "source": "# The code was removed by Watson Studio for sharing."
        },
        {
            "cell_type": "code",
            "execution_count": 6,
            "metadata": {},
            "outputs": [],
            "source": "# Function that returns all organic grocery near the given location (10 km in this case)\n\ndef get_store(lat, lng):\n    res = requests.get('https://api.foursquare.com/v2/venues/search?&client_id={}&client_secret={}&v={}&ll={},{}&limit={}&radius={}&categoryId={}'.format(\n                        client_id, \n                        client_secret, \n                        v, \n                        lat, lng,\n                        limit,\n                        radius,\n                        categoryId))\n    try:\n        res_df = pd.DataFrame(res.json()['response']['venues']).loc[:, ['id', 'name', 'categories', 'location']]\n        res_df.loc[:, ['categories']] = res_df.loc[:, ['categories']].applymap(lambda x: x[0]['name'])\n        for i in ['lat', 'lng', 'distance']:\n            res_df.loc[:, i] = res_df.loc[:, ['location']].applymap(lambda x: x[i]).values\n        res_df.drop('location', axis=1, inplace=True)\n        return res_df\n    except:\n        return None\n"
        },
        {
            "cell_type": "code",
            "execution_count": 9,
            "metadata": {},
            "outputs": [],
            "source": "# get all the groceries using the location of all the neighborhood\n\ngrocery_df = pd.DataFrame()\nfor lat, lng, neighborhood in zip(toronto_df.Latitude, toronto_df.Longitude, toronto_df.Neighborhood):\n    tmp = get_store(lat, lng)\n    if tmp is not None:\n        tmp.loc[:, 'Neighborhood'] = neighborhood\n        grocery_df = grocery_df.append(tmp)\n        \ngrocery_df.index = grocery_df.loc[:, 'id']\ngrocery_df.drop('id', axis=1)"
        },
        {
            "cell_type": "code",
            "execution_count": null,
            "metadata": {},
            "outputs": [],
            "source": "# clean up the stores that are found more than one time. The Neighborhood that is nearest to the store are considered as the neighborhood that the store belongs to.\n\nid_set = set()\ntmp_df = pd.DataFrame()\nfor i in range(grocery_df.shape[0]):\n    if grocery_df.index[i] not in id_set:\n        tmp_df = tmp_df.append(grocery_df.iloc[[i], :])\n        id_set.add(grocery_df.index[i])\n    else:\n        shop_id = grocery_df.id[i]\n        if grocery_df.iloc[i, 4] < tmp_df.loc[shop_id, 'distance']:\n            tmp_df.drop(shop_id, axis=0)\n            tmp_df.append(grocery_df.iloc[[i], :])\n\ngrocery_df = tmp_df\ngrocery_df.reset_index(drop=True, inplace=True)"
        },
        {
            "cell_type": "markdown",
            "metadata": {},
            "source": "There are 27 stores in total that has organic grocery as label. Because the calls to Foursquare are exceeded, the results will be shown in the future."
        },
        {
            "cell_type": "code",
            "execution_count": null,
            "metadata": {},
            "outputs": [],
            "source": "!pip install folium\nimport folium"
        },
        {
            "cell_type": "code",
            "execution_count": null,
            "metadata": {},
            "outputs": [],
            "source": "berlin_map = folium.Map([52.472103, 13.432550], zoom_start=12)\n\nfor lat, lng, label in zip(test_df.lat, test_df.lng, test_df.categories):\n    folium.vector_layers.CircleMarker(\n        [lat, lng],\n        radius=5,\n        popup=label,\n        fill=True,\n        color='blue',\n        fill_color='blue',\n        fill_opacity=0.6\n        ).add_to(berlin_map)"
        },
        {
            "cell_type": "code",
            "execution_count": null,
            "metadata": {},
            "outputs": [],
            "source": "berlin_map"
        },
        {
            "cell_type": "code",
            "execution_count": null,
            "metadata": {},
            "outputs": [],
            "source": ""
        }
    ],
    "metadata": {
        "kernelspec": {
            "display_name": "Python 3.6",
            "language": "python",
            "name": "python3"
        },
        "language_info": {
            "codemirror_mode": {
                "name": "ipython",
                "version": 3
            },
            "file_extension": ".py",
            "mimetype": "text/x-python",
            "name": "python",
            "nbconvert_exporter": "python",
            "pygments_lexer": "ipython3",
            "version": "3.6.9"
        }
    },
    "nbformat": 4,
    "nbformat_minor": 1
}